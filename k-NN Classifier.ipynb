{
 "cells": [
  {
   "cell_type": "markdown",
   "metadata": {},
   "source": [
    "# k-Nearest Neighbors Classifier (k-NN)\n",
    "\n",
    "O **k-NN** é o classificador mais simples na área de aprendizado de máquina. Diferentemente das redes neurais, não se realiza de fato um **aprendizado**, em vez disso, o algoritmo verifica a distância entre o objeto a ser classificado e os vetores de característica. Devido a sua simplicidade, é bastante utilizado em *benchmarks* de classificadores mais complexos como, Artificial Neural Network (**ANN**) e Suport Vector Machine (**SVM**).\n",
    "\n",
    "<center>\n",
    "<figure>\n",
    "    <img src=\"https://amueller.github.io/applied_ml_spring_2017/images/classifier_comparison.png\" alt=\"Classifier Comparison\">\n",
    "    <figcaption>Figura 1 - Comparação entre os classificadores (https://amueller.github.io/applied_ml_spring_2017/images/classifier_comparison.png).</figcaption>\n",
    "</figure>\n",
    "</center>"
   ]
  },
  {
   "cell_type": "markdown",
   "metadata": {},
   "source": [
    "## 1. Introdução\n",
    "\n",
    "O **k-NN** não passa por um processo de aprendizagem como o **ANN** e **SVM**, contudo existe um mecanismo de *mapeamento* que servirá para criar o modelo utilizado na classificação dos dados. Este modelo consiste numa lista de **descritores**, que tratam-se de listas das características que descrevem os exemplos dos modelos.\n",
    "\n",
    "<center>\n",
    "    <img src=\"https://ars.els-cdn.com/content/image/1-s2.0-S1568494617305859-gr2.jpg\" width=\"450\" height=\"450\" style=\"float:left\">\n",
    "    <img src=\"https://csdl-images.computer.org/trans/tp/1996/06/figures/i06483.gif\"  width=\"400\" height=\"400\" style=\"float:right\">\n",
    "    <figcaption style=\"clear:both\">Figura 2 - Exemplos de descritores (vetores de características) de imagens.</figcaption>\n",
    "</center>\n",
    "\n",
    "A Figura 2 mostra exemplos de vetores de características sobre imagens, onde cada pixel se torna um elemento do vetor. Portanto cada imagem será representado por seu vetor característico correspondente, o qual fará parte de um conjunto de vetores que serão utilizados no processo de classificação. Além desse tipo de vetor característica, os elementos desses vetores podem ser nominais ou reais, como: **cor, preço, ano, altura, peso, estado civil, etc**. Outra informação relevante é que cada vetor possui uma **classe** associada, o qual servirá de referência para classificar os dados. A Figura 3 mostra a forma geral de um conjunto de descritores e suas repectivas classes. \n",
    "\n",
    "<center>\n",
    "    <img src=\"http://www.big-data.tips/wp-content/uploads/2016/08/textdata-features.jpg\" width=\"500\"/>\n",
    "    <figcaption>Figura 3 - Conjunto de descritores genérico.</figcaption>\n",
    "</center>"
   ]
  },
  {
   "cell_type": "markdown",
   "metadata": {},
   "source": [
    "### 1.1 Obtenção dos dados\n",
    "\n",
    "Neste problema será utilizado o *dataset* <a href=\"http://archive.ics.uci.edu/ml/datasets/Iris\">Iris</a>, que consiste em um conjunto de dados que visa classificar os tipos de flores Ísis em **Setosa, Versicolour e Virginica**. Esse dataset é composto por 150 instâncias, sendo 50 para cada classe. Estes descritores são formados por 4 atributos: **tamanho da sépala, largura da sépala, tamanho da pétala** e **largura da pétala**."
   ]
  },
  {
   "cell_type": "code",
   "execution_count": 73,
   "metadata": {},
   "outputs": [
    {
     "name": "stdout",
     "output_type": "stream",
     "text": [
      "Iris-setosa: 50\n",
      "Iris-versicolor: 50\n",
      "Iris-virginica: 50\n"
     ]
    }
   ],
   "source": [
    "import pandas as pd\n",
    "\n",
    "# Carregando o dataset\n",
    "dataset = pd.read_csv(\"dataset/iris/dataset.csv\", header=None)\n",
    "\n",
    "# Checando os dados\n",
    "# print (dataset)\n",
    "\n",
    "# Descobrindo o número de instâncias por classes\n",
    "for i in pd.unique(dataset[4]):\n",
    "    print( i + ': ' + str(len (dataset.loc[dataset[4] == i])) )"
   ]
  },
  {
   "cell_type": "markdown",
   "metadata": {},
   "source": [
    "## 2. Princípio de funcionamento\n",
    "\n",
    "A ideia básica do classificador **k-NN** está no cálculo de uma *distância* entre o indivíduo a ser classificado e os descritores, onde a classe atribuida a esse indivíduo será a mesma que a maioria dos **k** descritores mais próximos. Existem vários cálculos de distâncias que podem ser utilizados como métricas para os cálculos de proximidades, sendo as mais conhecidas a *Distância Euclidiana* e *Distância Manhattan*. \n",
    "\n",
    "<center>\n",
    "    <img src=\"https://wikimedia.org/api/rest_v1/media/math/render/svg/795b967db2917cdde7c2da2d1ee327eb673276c0\" width=\"450\">\n",
    "    <figcaption style=\"clear:both\">Equação 1 - Fórmula da Distância Euclidiana.</figcaption>\n",
    "    <img src=\"https://wikimedia.org/api/rest_v1/media/math/render/svg/02436c34fc9562eb170e2e2cfddbb3303075b28e\"  width=\"400\">\n",
    "    <figcaption style=\"clear:both\">Equação 2 - Fórmula da Distância Manhattan.</figcaption>\n",
    "</center>"
   ]
  },
  {
   "cell_type": "markdown",
   "metadata": {},
   "source": [
    "### 2.1 Criando as funções para cálculos de distâncias"
   ]
  },
  {
   "cell_type": "code",
   "execution_count": 72,
   "metadata": {},
   "outputs": [],
   "source": [
    "from math import sqrt\n",
    "\n",
    "def euclidean(p, q):\n",
    "    if len(p) != len (q):\n",
    "        return -1\n",
    "    \n",
    "    local_sum = 0\n",
    "    for i in range(0, len(p)):\n",
    "        local_sum += pow(q[i] - p[i], 2)\n",
    "    \n",
    "    return sqrt (local_sum)\n",
    "\n",
    "def manhattan(p, q):\n",
    "    if len(p) != len (q):\n",
    "        return -1\n",
    "    \n",
    "    local_sum = 0\n",
    "    for i in range(0, len(p)):\n",
    "        local_sum += abs(p[i] - q[i])\n",
    "    \n",
    "    return local_sum"
   ]
  },
  {
   "cell_type": "markdown",
   "metadata": {},
   "source": [
    "## Referências\n",
    "\n",
    "[1] Kevin Zakka. A Complete Guide to K-Nearest-Neighbors with Applications in Python and R, Available at: https://kevinzakka.github.io/2016/07/13/k-nearest-neighbor/ (Accessed: 28th March 2018).\n",
    "\n",
    "[2] Maxwell. Aprendizado de máquina - conceitos básicos, Available at: https://www.maxwell.vrac.puc-rio.br/25796/25796_4.PDF (Accessed: 28th March 2018).\n",
    "\n",
    "[3] Wikipedia (24th February 2018) k-nearest neighbors algorithm, Available at: https://en.wikipedia.org/wiki/K-nearest_neighbors_algorithm (Accessed: 28th March 2018)."
   ]
  }
 ],
 "metadata": {
  "kernelspec": {
   "display_name": "Python 3",
   "language": "python",
   "name": "python3"
  },
  "language_info": {
   "codemirror_mode": {
    "name": "ipython",
    "version": 3
   },
   "file_extension": ".py",
   "mimetype": "text/x-python",
   "name": "python",
   "nbconvert_exporter": "python",
   "pygments_lexer": "ipython3",
   "version": "3.6.4"
  }
 },
 "nbformat": 4,
 "nbformat_minor": 2
}

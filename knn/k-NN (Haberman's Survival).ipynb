{
 "cells": [
  {
   "cell_type": "code",
   "execution_count": 1,
   "metadata": {},
   "outputs": [
    {
     "name": "stdout",
     "output_type": "stream",
     "text": [
      "      0   1   2  3\n",
      "0    30  64   1  1\n",
      "1    30  62   3  1\n",
      "2    30  65   0  1\n",
      "3    31  59   2  1\n",
      "4    31  65   4  1\n",
      "5    33  58  10  1\n",
      "6    33  60   0  1\n",
      "7    34  59   0  2\n",
      "8    34  66   9  2\n",
      "9    34  58  30  1\n",
      "10   34  60   1  1\n",
      "11   34  61  10  1\n",
      "12   34  67   7  1\n",
      "13   34  60   0  1\n",
      "14   35  64  13  1\n",
      "15   35  63   0  1\n",
      "16   36  60   1  1\n",
      "17   36  69   0  1\n",
      "18   37  60   0  1\n",
      "19   37  63   0  1\n",
      "20   37  58   0  1\n",
      "21   37  59   6  1\n",
      "22   37  60  15  1\n",
      "23   37  63   0  1\n",
      "24   38  69  21  2\n",
      "25   38  59   2  1\n",
      "26   38  60   0  1\n",
      "27   38  60   0  1\n",
      "28   38  62   3  1\n",
      "29   38  64   1  1\n",
      "..   ..  ..  .. ..\n",
      "276  67  66   0  1\n",
      "277  67  61   0  1\n",
      "278  67  65   0  1\n",
      "279  68  67   0  1\n",
      "280  68  68   0  1\n",
      "281  69  67   8  2\n",
      "282  69  60   0  1\n",
      "283  69  65   0  1\n",
      "284  69  66   0  1\n",
      "285  70  58   0  2\n",
      "286  70  58   4  2\n",
      "287  70  66  14  1\n",
      "288  70  67   0  1\n",
      "289  70  68   0  1\n",
      "290  70  59   8  1\n",
      "291  70  63   0  1\n",
      "292  71  68   2  1\n",
      "293  72  63   0  2\n",
      "294  72  58   0  1\n",
      "295  72  64   0  1\n",
      "296  72  67   3  1\n",
      "297  73  62   0  1\n",
      "298  73  68   0  1\n",
      "299  74  65   3  2\n",
      "300  74  63   0  1\n",
      "301  75  62   1  1\n",
      "302  76  67   0  1\n",
      "303  77  65   3  1\n",
      "304  78  65   1  2\n",
      "305  83  58   2  2\n",
      "\n",
      "[306 rows x 4 columns]\n",
      "1: 225\n",
      "2: 81\n"
     ]
    }
   ],
   "source": [
    "import pandas as pd\n",
    "\n",
    "# Carregando o dataset\n",
    "dataset = pd.read_csv(\"dataset/haberman/haberman.csv\", header=None)\n",
    "\n",
    "class_column = len (dataset.columns) - 1\n",
    "\n",
    "# Checando os dados\n",
    "print (dataset)\n",
    "\n",
    "class_names = pd.unique(dataset[class_column])\n",
    "\n",
    "# Descobrindo o número de instâncias por classes\n",
    "for i in class_names:\n",
    "    print( str(i) + ': ' + str(len (dataset.loc[dataset[class_column] == i])) )"
   ]
  },
  {
   "cell_type": "code",
   "execution_count": 2,
   "metadata": {},
   "outputs": [],
   "source": [
    "from math import sqrt\n",
    "\n",
    "def euclidean(p, q):\n",
    "    if len(p) != len (q):\n",
    "        return -1\n",
    "    \n",
    "    local_sum = 0\n",
    "    for i in range(0, len(p)):\n",
    "        local_sum += pow(q[i] - p[i], 2)\n",
    "    \n",
    "    return sqrt (local_sum)\n",
    "\n",
    "def manhattan(p, q):\n",
    "    if len(p) != len (q):\n",
    "        return -1\n",
    "    \n",
    "    local_sum = 0\n",
    "    for i in range(0, len(p)):\n",
    "        local_sum += abs(p[i] - q[i])\n",
    "    \n",
    "    return local_sum"
   ]
  },
  {
   "cell_type": "code",
   "execution_count": 3,
   "metadata": {
    "scrolled": true
   },
   "outputs": [],
   "source": [
    "import numpy as np\n",
    "\n",
    "# Embaralhando os dados\n",
    "dataset = dataset.iloc[np.random.permutation(len(dataset))]\n",
    "\n",
    "# Separando o dataset por classes\n",
    "survived = dataset.loc[dataset[class_column] == class_names[0]]\n",
    "died     = dataset.loc[dataset[class_column] == class_names[1]]\n",
    "\n",
    "min_class = min(len(survived), len(died))\n",
    "#min_class = 60\n",
    "\n",
    "blind = pd.concat([survived[min_class:len(survived)],\n",
    "                       died[min_class:len(died)]])\n",
    "\n",
    "survived = survived[0:min_class]\n",
    "died     = died[0:min_class]"
   ]
  },
  {
   "cell_type": "code",
   "execution_count": 4,
   "metadata": {},
   "outputs": [],
   "source": [
    "train_percentage = 0.8\n",
    "\n",
    "# Obtendo os conjuntos de treino e de testes\n",
    "trainset = pd.concat([    survived[0: int (len(survived) * train_percentage + 1)],\n",
    "                              died[0: int (len(died)     * train_percentage + 1)]])\n",
    "\n",
    "testset =  pd.concat([    survived[int (len(survived) * train_percentage + 1) : ],\n",
    "                              died[int (len(died)     * train_percentage + 1) : ]])"
   ]
  },
  {
   "cell_type": "code",
   "execution_count": 5,
   "metadata": {},
   "outputs": [],
   "source": [
    "from operator import itemgetter\n",
    "from collections import Counter\n",
    "\n",
    "# Criando a função de classificação\n",
    "def knn(k, train, element, function):\n",
    "    distance = []\n",
    "    \n",
    "    local_class_column = len (train.columns) - 1\n",
    "    \n",
    "    for _, row in train.iterrows():\n",
    "        distance.append((function(row[0:local_class_column], element[0:local_class_column]), row[local_class_column]))\n",
    "    \n",
    "    distance.sort(key=itemgetter(0))\n",
    "    distance = [classes[1] for classes in distance[0:k]]\n",
    "    \n",
    "    most_common = Counter(distance)\n",
    "    #print(\"Classification: \" + max(most_common, key=most_common.get) + \", \" + element[4])\n",
    "    return max(most_common, key=most_common.get)\n",
    "\n",
    "# Função de avaliação de acurácia\n",
    "def evaluate(k, train, test):\n",
    "    acc = 0\n",
    "    \n",
    "    local_class_column = len (train.columns) - 1\n",
    "    \n",
    "    for _, row in test.iterrows():\n",
    "        if( knn(k, train, row, euclidean) == row[local_class_column] ):\n",
    "            acc += 1\n",
    "    \n",
    "    return acc / len(test)\n",
    "\n",
    "# Descobrindo a acurácia para todas as configurações possíveis\n",
    "def evaluate_by_config(train, test):\n",
    "    for k in range(1,11):\n",
    "        print(\"K = \" + str(k) + \", acc = \" + str(evaluate(k, train, test)))"
   ]
  },
  {
   "cell_type": "code",
   "execution_count": 6,
   "metadata": {},
   "outputs": [
    {
     "name": "stdout",
     "output_type": "stream",
     "text": [
      "K = 1, acc = 0.5625\n",
      "K = 2, acc = 0.5625\n",
      "K = 3, acc = 0.59375\n",
      "K = 4, acc = 0.59375\n",
      "K = 5, acc = 0.625\n",
      "K = 6, acc = 0.65625\n",
      "K = 7, acc = 0.625\n",
      "K = 8, acc = 0.59375\n",
      "K = 9, acc = 0.59375\n",
      "K = 10, acc = 0.5625\n"
     ]
    }
   ],
   "source": [
    "# Checando a melhor configuração\n",
    "evaluate_by_config(trainset, testset)"
   ]
  },
  {
   "cell_type": "code",
   "execution_count": 7,
   "metadata": {},
   "outputs": [
    {
     "name": "stdout",
     "output_type": "stream",
     "text": [
      "K = 1, acc = 0.6180555555555556\n",
      "K = 2, acc = 0.6180555555555556\n",
      "K = 3, acc = 0.5972222222222222\n",
      "K = 4, acc = 0.6180555555555556\n",
      "K = 5, acc = 0.6319444444444444\n",
      "K = 6, acc = 0.6597222222222222\n",
      "K = 7, acc = 0.6388888888888888\n",
      "K = 8, acc = 0.6527777777777778\n",
      "K = 9, acc = 0.6527777777777778\n",
      "K = 10, acc = 0.7013888888888888\n"
     ]
    }
   ],
   "source": [
    "evaluate_by_config(trainset, blind)"
   ]
  },
  {
   "cell_type": "code",
   "execution_count": null,
   "metadata": {},
   "outputs": [],
   "source": []
  }
 ],
 "metadata": {
  "kernelspec": {
   "display_name": "Python 3",
   "language": "python",
   "name": "python3"
  },
  "language_info": {
   "codemirror_mode": {
    "name": "ipython",
    "version": 3
   },
   "file_extension": ".py",
   "mimetype": "text/x-python",
   "name": "python",
   "nbconvert_exporter": "python",
   "pygments_lexer": "ipython3",
   "version": "3.6.4"
  }
 },
 "nbformat": 4,
 "nbformat_minor": 2
}

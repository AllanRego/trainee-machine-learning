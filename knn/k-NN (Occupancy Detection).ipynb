{
 "cells": [
  {
   "cell_type": "code",
   "execution_count": 1,
   "metadata": {},
   "outputs": [
    {
     "name": "stdout",
     "output_type": "stream",
     "text": [
      "              0          1      2           3         4  5\n",
      "0     23.180000  27.272000  426.0  721.250000  0.004793  1\n",
      "1     23.150000  27.267500  429.5  714.000000  0.004783  1\n",
      "2     23.150000  27.245000  426.0  713.500000  0.004779  1\n",
      "3     23.150000  27.200000  426.0  708.250000  0.004772  1\n",
      "4     23.100000  27.200000  426.0  704.500000  0.004757  1\n",
      "5     23.100000  27.200000  419.0  701.000000  0.004757  1\n",
      "6     23.100000  27.200000  419.0  701.666667  0.004757  1\n",
      "7     23.100000  27.200000  419.0  699.000000  0.004757  1\n",
      "8     23.100000  27.200000  419.0  689.333333  0.004757  1\n",
      "9     23.075000  27.175000  419.0  688.000000  0.004745  1\n",
      "10    23.075000  27.150000  419.0  690.250000  0.004741  1\n",
      "11    23.100000  27.100000  419.0  691.000000  0.004739  1\n",
      "12    23.100000  27.166667  419.0  683.500000  0.004751  1\n",
      "13    23.050000  27.150000  419.0  687.500000  0.004734  1\n",
      "14    23.000000  27.125000  419.0  686.000000  0.004715  1\n",
      "15    23.000000  27.125000  418.5  680.500000  0.004715  1\n",
      "16    23.000000  27.200000    0.0  681.500000  0.004728  0\n",
      "17    22.945000  27.290000    0.0  685.000000  0.004728  0\n",
      "18    22.945000  27.390000    0.0  685.000000  0.004745  0\n",
      "19    22.890000  27.390000    0.0  689.000000  0.004730  0\n",
      "20    22.890000  27.390000    0.0  689.500000  0.004730  0\n",
      "21    22.890000  27.390000    0.0  689.000000  0.004730  0\n",
      "22    22.890000  27.445000    0.0  691.000000  0.004739  0\n",
      "23    22.890000  27.500000    0.0  688.000000  0.004749  0\n",
      "24    22.890000  27.500000    0.0  689.500000  0.004749  0\n",
      "25    22.790000  27.445000    0.0  689.000000  0.004710  0\n",
      "26    22.790000  27.500000    0.0  685.666667  0.004720  0\n",
      "27    22.790000  27.500000    0.0  687.000000  0.004720  0\n",
      "28    22.790000  27.500000    0.0  688.000000  0.004720  0\n",
      "29    22.745000  27.500000    0.0  670.000000  0.004707  0\n",
      "...         ...        ...    ...         ...       ... ..\n",
      "8113  20.700000  34.417500  419.0  568.750000  0.005203  1\n",
      "8114  20.700000  34.090000  419.0  556.666667  0.005153  1\n",
      "8115  20.700000  34.296667  419.0  548.000000  0.005184  1\n",
      "8116  20.730000  34.466667  419.0  563.333333  0.005220  1\n",
      "8117  20.745000  34.567500  426.0  593.750000  0.005240  1\n",
      "8118  20.767500  34.717500  422.5  600.750000  0.005270  1\n",
      "8119  20.790000  35.090000  426.0  623.000000  0.005335  1\n",
      "8120  20.790000  34.972500  433.0  631.000000  0.005317  1\n",
      "8121  20.790000  34.826667  433.0  636.000000  0.005295  1\n",
      "8122  20.840000  35.195000  433.0  636.750000  0.005368  1\n",
      "8123  20.890000  35.300000  433.0  663.000000  0.005401  1\n",
      "8124  20.856667  35.096667  433.0  665.333333  0.005358  1\n",
      "8125  20.890000  35.320000  433.0  669.500000  0.005404  1\n",
      "8126  20.917500  35.475000  433.0  679.250000  0.005437  1\n",
      "8127  20.890000  35.400000  433.0  684.666667  0.005416  1\n",
      "8128  20.917500  35.717500  433.0  706.250000  0.005474  1\n",
      "8129  20.958750  35.683750  433.0  712.625000  0.005483  1\n",
      "8130  21.000000  35.650000  433.0  719.000000  0.005492  1\n",
      "8131  21.000000  35.700000  433.0  730.250000  0.005500  1\n",
      "8132  21.000000  35.760000  433.0  739.000000  0.005509  1\n",
      "8133  21.000000  35.850000  433.0  756.250000  0.005523  1\n",
      "8134  21.000000  35.700000  433.0  761.000000  0.005500  1\n",
      "8135  21.025000  35.950000  433.0  763.000000  0.005547  1\n",
      "8136  21.000000  35.860000  433.0  771.333333  0.005525  1\n",
      "8137  21.050000  36.050000  433.0  780.250000  0.005571  1\n",
      "8138  21.050000  36.097500  433.0  787.250000  0.005579  1\n",
      "8139  21.050000  35.995000  433.0  789.500000  0.005563  1\n",
      "8140  21.100000  36.095000  433.0  798.500000  0.005596  1\n",
      "8141  21.100000  36.260000  433.0  820.333333  0.005621  1\n",
      "8142  21.100000  36.200000  447.0  821.000000  0.005612  1\n",
      "\n",
      "[8143 rows x 6 columns]\n",
      "1: 1729\n",
      "0: 6414\n"
     ]
    }
   ],
   "source": [
    "import pandas as pd\n",
    "\n",
    "# Carregando o dataset\n",
    "dataset = pd.read_csv(\"dataset/occupancy_detection/datatraining.txt\", header=None)\n",
    "\n",
    "class_column = len (dataset.columns) - 1\n",
    "\n",
    "# Checando os dados\n",
    "print (dataset)\n",
    "\n",
    "class_names = pd.unique(dataset[class_column])\n",
    "\n",
    "# Descobrindo o número de instâncias por classes\n",
    "for i in class_names:\n",
    "    print( str(i) + ': ' + str(len (dataset.loc[dataset[class_column] == i])) )"
   ]
  },
  {
   "cell_type": "code",
   "execution_count": 2,
   "metadata": {},
   "outputs": [],
   "source": [
    "from math import sqrt\n",
    "\n",
    "def euclidean(p, q):\n",
    "    if len(p) != len (q):\n",
    "        return -1\n",
    "    \n",
    "    local_sum = 0\n",
    "    for i in range(0, len(p)):\n",
    "        local_sum += pow(q[i] - p[i], 2)\n",
    "    \n",
    "    return sqrt (local_sum)\n",
    "\n",
    "def manhattan(p, q):\n",
    "    if len(p) != len (q):\n",
    "        return -1\n",
    "    \n",
    "    local_sum = 0\n",
    "    for i in range(0, len(p)):\n",
    "        local_sum += abs(p[i] - q[i])\n",
    "    \n",
    "    return local_sum"
   ]
  },
  {
   "cell_type": "code",
   "execution_count": 8,
   "metadata": {},
   "outputs": [],
   "source": [
    "import numpy as np\n",
    "\n",
    "# Embaralhando os dados\n",
    "dataset = dataset.iloc[np.random.permutation(len(dataset))]\n",
    "\n",
    "# Separando o dataset por classes\n",
    "occupied     = dataset.loc[dataset[class_column] == class_names[0]]\n",
    "not_occupied = dataset.loc[dataset[class_column] == class_names[1]]\n",
    "\n",
    "blind = pd.concat([ occupied[len(occupied) - 100     : len(occupied)],\n",
    "                not_occupied[len(not_occupied) - 100 : len(not_occupied)]])\n",
    "\n",
    "occupied     =     occupied[0:200]\n",
    "not_occupied = not_occupied[0:200]"
   ]
  },
  {
   "cell_type": "code",
   "execution_count": 9,
   "metadata": {},
   "outputs": [],
   "source": [
    "train_percentage = 0.8\n",
    "\n",
    "# Obtendo os conjuntos de treino e de testes\n",
    "trainset = pd.concat([    occupied[0: int (len(occupied)     * train_percentage + 1)],\n",
    "                      not_occupied[0: int (len(not_occupied) * train_percentage + 1)]])\n",
    "\n",
    "testset =  pd.concat([    occupied[int (len(occupied)     * train_percentage + 1) : ],\n",
    "                      not_occupied[int (len(not_occupied) * train_percentage + 1) : ]])"
   ]
  },
  {
   "cell_type": "code",
   "execution_count": 10,
   "metadata": {},
   "outputs": [],
   "source": [
    "from operator import itemgetter\n",
    "from collections import Counter\n",
    "\n",
    "# Criando a função de classificação\n",
    "def knn(k, train, element, function):\n",
    "    distance = []\n",
    "    \n",
    "    local_class_column = len (train.columns) - 1\n",
    "    \n",
    "    for _, row in train.iterrows():\n",
    "        distance.append((function(row[0:local_class_column], element[0:local_class_column]), row[local_class_column]))\n",
    "    \n",
    "    distance.sort(key=itemgetter(0))\n",
    "    distance = [classes[1] for classes in distance[0:k]]\n",
    "    \n",
    "    most_common = Counter(distance)\n",
    "    #print(\"Classification: \" + max(most_common, key=most_common.get) + \", \" + element[4])\n",
    "    return max(most_common, key=most_common.get)\n",
    "\n",
    "# Função de avaliação de acurácia\n",
    "def evaluate(k, train, test):\n",
    "    acc = 0\n",
    "    \n",
    "    local_class_column = len (train.columns) - 1\n",
    "    \n",
    "    for _, row in test.iterrows():\n",
    "        if( knn(k, train, row, euclidean) == row[local_class_column] ):\n",
    "            acc += 1\n",
    "    \n",
    "    return acc / len(test)\n",
    "\n",
    "# Descobrindo a acurácia para todas as configurações possíveis\n",
    "def evaluate_by_config(train, test):\n",
    "    for k in range(1,11):\n",
    "        print(\"K = \" + str(k) + \", acc = \" + str(evaluate(k, train, test)))"
   ]
  },
  {
   "cell_type": "code",
   "execution_count": 11,
   "metadata": {},
   "outputs": [
    {
     "name": "stdout",
     "output_type": "stream",
     "text": [
      "K = 1, acc = 1.0\n",
      "K = 2, acc = 1.0\n",
      "K = 3, acc = 1.0\n",
      "K = 4, acc = 1.0\n",
      "K = 5, acc = 1.0\n",
      "K = 6, acc = 1.0\n",
      "K = 7, acc = 1.0\n",
      "K = 8, acc = 1.0\n",
      "K = 9, acc = 0.9871794871794872\n",
      "K = 10, acc = 0.9871794871794872\n"
     ]
    }
   ],
   "source": [
    "# Checando a melhor configuração\n",
    "evaluate_by_config(trainset, testset)"
   ]
  },
  {
   "cell_type": "code",
   "execution_count": 7,
   "metadata": {},
   "outputs": [
    {
     "name": "stdout",
     "output_type": "stream",
     "text": [
      "K = 1, acc = 0.99\n",
      "K = 2, acc = 0.99\n",
      "K = 3, acc = 0.995\n",
      "K = 4, acc = 0.995\n",
      "K = 5, acc = 0.995\n",
      "K = 6, acc = 0.995\n",
      "K = 7, acc = 0.995\n",
      "K = 8, acc = 0.995\n",
      "K = 9, acc = 0.995\n",
      "K = 10, acc = 0.995\n"
     ]
    }
   ],
   "source": [
    "evaluate_by_config(trainset, blind)"
   ]
  },
  {
   "cell_type": "code",
   "execution_count": null,
   "metadata": {},
   "outputs": [],
   "source": []
  }
 ],
 "metadata": {
  "kernelspec": {
   "display_name": "Python 3",
   "language": "python",
   "name": "python3"
  },
  "language_info": {
   "codemirror_mode": {
    "name": "ipython",
    "version": 3
   },
   "file_extension": ".py",
   "mimetype": "text/x-python",
   "name": "python",
   "nbconvert_exporter": "python",
   "pygments_lexer": "ipython3",
   "version": "3.6.4"
  }
 },
 "nbformat": 4,
 "nbformat_minor": 2
}

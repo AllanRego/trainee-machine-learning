{
 "cells": [
  {
   "cell_type": "markdown",
   "metadata": {},
   "source": [
    "# Prática de k-NN"
   ]
  },
  {
   "cell_type": "code",
   "execution_count": 43,
   "metadata": {},
   "outputs": [
    {
     "name": "stdout",
     "output_type": "stream",
     "text": [
      "          0    1    2  3\n",
      "0        74   85  123  1\n",
      "1        73   84  122  1\n",
      "2        72   83  121  1\n",
      "3        70   81  119  1\n",
      "4        70   81  119  1\n",
      "5        69   80  118  1\n",
      "6        70   81  119  1\n",
      "7        70   81  119  1\n",
      "8        76   87  125  1\n",
      "9        76   87  125  1\n",
      "10       77   88  126  1\n",
      "11       77   88  126  1\n",
      "12       77   88  126  1\n",
      "13       78   89  127  1\n",
      "14       77   85  125  1\n",
      "15       78   86  126  1\n",
      "16       78   86  126  1\n",
      "17       77   85  125  1\n",
      "18       76   84  124  1\n",
      "19       77   85  125  1\n",
      "20       80   88  128  1\n",
      "21       83   91  131  1\n",
      "22       83   91  131  1\n",
      "23       84   92  132  1\n",
      "24       84   92  132  1\n",
      "25       83   91  131  1\n",
      "26       80   88  128  1\n",
      "27       78   86  126  1\n",
      "28       78   86  126  1\n",
      "29       79   87  127  1\n",
      "...     ...  ...  ... ..\n",
      "245027  162  161  110  2\n",
      "245028  162  161  110  2\n",
      "245029  162  161  110  2\n",
      "245030  162  161  110  2\n",
      "245031  162  161  110  2\n",
      "245032  162  161  110  2\n",
      "245033  165  164  113  2\n",
      "245034  165  164  113  2\n",
      "245035  165  164  113  2\n",
      "245036  165  164  113  2\n",
      "245037  165  164  113  2\n",
      "245038  164  163  112  2\n",
      "245039  164  163  112  2\n",
      "245040  164  163  112  2\n",
      "245041  163  162  112  2\n",
      "245042  163  162  112  2\n",
      "245043  163  162  112  2\n",
      "245044  163  162  112  2\n",
      "245045  163  162  112  2\n",
      "245046  163  162  112  2\n",
      "245047  163  162  112  2\n",
      "245048  163  162  112  2\n",
      "245049  163  162  112  2\n",
      "245050  163  162  112  2\n",
      "245051  163  162  112  2\n",
      "245052  163  162  112  2\n",
      "245053  163  162  112  2\n",
      "245054  163  162  112  2\n",
      "245055  163  162  112  2\n",
      "245056  255  255  255  2\n",
      "\n",
      "[245057 rows x 4 columns]\n",
      "1: 50859\n",
      "2: 194198\n"
     ]
    }
   ],
   "source": [
    "import pandas as pd\n",
    "\n",
    "# Carregando o dataset\n",
    "dataset = pd.read_csv(\"dataset/skin_segmentation/data.csv\", header=None)\n",
    "\n",
    "class_column = len (dataset.columns) - 1\n",
    "\n",
    "# Checando os dados\n",
    "print (dataset)\n",
    "\n",
    "class_names = pd.unique(dataset[class_column])\n",
    "\n",
    "# Descobrindo o número de instâncias por classes\n",
    "for i in class_names:\n",
    "    print( str(i) + ': ' + str(len (dataset.loc[dataset[class_column] == i])) )"
   ]
  },
  {
   "cell_type": "code",
   "execution_count": 44,
   "metadata": {},
   "outputs": [],
   "source": [
    "from math import sqrt\n",
    "\n",
    "def euclidean(p, q):\n",
    "    if len(p) != len (q):\n",
    "        return -1\n",
    "    \n",
    "    local_sum = 0\n",
    "    for i in range(0, len(p)):\n",
    "        local_sum += pow(q[i] - p[i], 2)\n",
    "    \n",
    "    return sqrt (local_sum)\n",
    "\n",
    "def manhattan(p, q):\n",
    "    if len(p) != len (q):\n",
    "        return -1\n",
    "    \n",
    "    local_sum = 0\n",
    "    for i in range(0, len(p)):\n",
    "        local_sum += abs(p[i] - q[i])\n",
    "    \n",
    "    return local_sum"
   ]
  },
  {
   "cell_type": "code",
   "execution_count": 45,
   "metadata": {},
   "outputs": [],
   "source": [
    "import numpy as np\n",
    "\n",
    "# Embaralhando os dados\n",
    "dataset = dataset.iloc[np.random.permutation(len(dataset))]\n",
    "\n",
    "# Separando o dataset por classes\n",
    "skin     = dataset.loc[dataset[class_column] == class_names[0]]\n",
    "non_skin = dataset.loc[dataset[class_column] == class_names[1]]\n",
    "\n",
    "part_skin     = skin[0:200]\n",
    "part_non_skin = non_skin[0:200]\n",
    "\n",
    "blind_test = pd.concat([    skin[len(skin) - 100     : len(skin)],\n",
    "                        non_skin[len(non_skin) - 100 : len(non_skin)]])"
   ]
  },
  {
   "cell_type": "code",
   "execution_count": 46,
   "metadata": {},
   "outputs": [],
   "source": [
    "train_percentage = 0.8\n",
    "\n",
    "# Obtendo os conjuntos de treino e de testes\n",
    "trainset = pd.concat([    part_skin[0: int (len(part_skin)     * train_percentage + 1)],\n",
    "                      part_non_skin[0: int (len(part_non_skin) * train_percentage + 1)]])\n",
    "\n",
    "testset =  pd.concat([    part_skin[int (len(part_skin)        * train_percentage + 1) : ],\n",
    "                      part_non_skin[int (len(part_non_skin)    * train_percentage + 1) : ]])"
   ]
  },
  {
   "cell_type": "code",
   "execution_count": 47,
   "metadata": {},
   "outputs": [],
   "source": [
    "from operator import itemgetter\n",
    "from collections import Counter\n",
    "\n",
    "# Criando a função de classificação\n",
    "def knn(k, train, element, function):\n",
    "    distance = []\n",
    "    \n",
    "    local_class_column = len (train.columns) - 1\n",
    "    \n",
    "    for _, row in train.iterrows():\n",
    "        distance.append((function(row[0:local_class_column], element[0:local_class_column]), row[local_class_column]))\n",
    "    \n",
    "    distance.sort(key=itemgetter(0))\n",
    "    distance = [classes[1] for classes in distance[0:k]]\n",
    "    \n",
    "    most_common = Counter(distance)\n",
    "    #print(\"Classification: \" + max(most_common, key=most_common.get) + \", \" + element[4])\n",
    "    return max(most_common, key=most_common.get)\n",
    "\n",
    "# Função de avaliação de acurácia\n",
    "def evaluate(k, train, test):\n",
    "    acc = 0\n",
    "    \n",
    "    local_class_column = len (train.columns) - 1\n",
    "    \n",
    "    for _, row in test.iterrows():\n",
    "        if( knn(k, train, row, euclidean) == row[local_class_column] ):\n",
    "            acc += 1\n",
    "    \n",
    "    return acc / len(test)\n",
    "\n",
    "# Descobrindo a acurácia para todas as configurações possíveis\n",
    "def evaluate_by_config(train, test):\n",
    "    for k in range(1,11):\n",
    "        print(\"K = \" + str(k) + \", acc = \" + str(evaluate(k, train, test)))"
   ]
  },
  {
   "cell_type": "code",
   "execution_count": 48,
   "metadata": {},
   "outputs": [
    {
     "name": "stdout",
     "output_type": "stream",
     "text": [
      "K = 1, acc = 0.9743589743589743\n",
      "K = 2, acc = 0.9743589743589743\n",
      "K = 3, acc = 0.9743589743589743\n",
      "K = 4, acc = 0.9743589743589743\n",
      "K = 5, acc = 0.9358974358974359\n",
      "K = 6, acc = 0.9358974358974359\n",
      "K = 7, acc = 0.9358974358974359\n",
      "K = 8, acc = 0.9358974358974359\n",
      "K = 9, acc = 0.9230769230769231\n",
      "K = 10, acc = 0.9230769230769231\n",
      "K = 1, acc = 0.985\n",
      "K = 2, acc = 0.985\n",
      "K = 3, acc = 0.98\n",
      "K = 4, acc = 0.985\n",
      "K = 5, acc = 0.915\n",
      "K = 6, acc = 0.915\n",
      "K = 7, acc = 0.91\n",
      "K = 8, acc = 0.91\n",
      "K = 9, acc = 0.905\n",
      "K = 10, acc = 0.905\n"
     ]
    }
   ],
   "source": [
    "# Checando a melhor configuração\n",
    "evaluate_by_config(trainset, testset)\n",
    "\n",
    "# Blind test\n",
    "evaluate_by_config(trainset, blind_test)"
   ]
  },
  {
   "cell_type": "code",
   "execution_count": 40,
   "metadata": {},
   "outputs": [
    {
     "name": "stdout",
     "output_type": "stream",
     "text": [
      "50859\n",
      "200\n"
     ]
    },
    {
     "data": {
      "image/png": "[encoded data removed]",
      "text/plain": [
       "<matplotlib.figure.Figure at 0x7fad33f03b70>"
      ]
     },
     "metadata": {},
     "output_type": "display_data"
    },
    {
     "data": {
      "image/png": "[encoded data removed]",
      "text/plain": [
       "<matplotlib.figure.Figure at 0x7fad33faf550>"
      ]
     },
     "metadata": {},
     "output_type": "display_data"
    },
    {
     "data": {
      "image/png": "[encoded data removed]",
      "text/plain": [
       "<matplotlib.figure.Figure at 0x7fad33f8ef98>"
      ]
     },
     "metadata": {},
     "output_type": "display_data"
    },
    {
     "data": {
      "image/png": "[encoded data removed]",
      "text/plain": [
       "<matplotlib.figure.Figure at 0x7fad33b5e588>"
      ]
     },
     "metadata": {},
     "output_type": "display_data"
    }
   ],
   "source": [
    "from matplotlib import pyplot as plt\n",
    "\n",
    "print(len(skin))\n",
    "print(len(part_skin))\n",
    "\n",
    "plt.figure(1)\n",
    "plt.boxplot([skin[0], skin[1], skin[2], skin[3]])\n",
    "\n",
    "plt.figure(2)\n",
    "plt.boxplot([part_skin[0], part_skin[1], part_skin[2], part_skin[3]])\n",
    "\n",
    "plt.figure(3)\n",
    "plt.boxplot([non_skin[0], non_skin[1], non_skin[2], non_skin[3]])\n",
    "\n",
    "plt.figure(4)\n",
    "plt.boxplot([part_non_skin[0], part_non_skin[1], part_non_skin[2], part_non_skin[3]])\n",
    "\n",
    "plt.show()"
   ]
  },
  {
   "cell_type": "code",
   "execution_count": null,
   "metadata": {},
   "outputs": [],
   "source": []
  }
 ],
 "metadata": {
  "kernelspec": {
   "display_name": "Python 3",
   "language": "python",
   "name": "python3"
  },
  "language_info": {
   "codemirror_mode": {
    "name": "ipython",
    "version": 3
   },
   "file_extension": ".py",
   "mimetype": "text/x-python",
   "name": "python",
   "nbconvert_exporter": "python",
   "pygments_lexer": "ipython3",
   "version": "3.6.4"
  }
 },
 "nbformat": 4,
 "nbformat_minor": 2
}
